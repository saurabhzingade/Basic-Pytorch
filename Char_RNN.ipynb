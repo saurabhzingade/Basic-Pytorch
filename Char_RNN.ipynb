{
  "nbformat": 4,
  "nbformat_minor": 0,
  "metadata": {
    "colab": {
      "name": "Char-RNN.ipynb",
      "provenance": []
    },
    "kernelspec": {
      "name": "python3",
      "display_name": "Python 3"
    }
  },
  "cells": [
    {
      "cell_type": "code",
      "metadata": {
        "id": "fiGinlhlpxkr",
        "colab_type": "code",
        "colab": {}
      },
      "source": [
        "import numpy as np\n",
        "import torch\n",
        "from torch import nn\n",
        "import torch.nn.functional as F"
      ],
      "execution_count": null,
      "outputs": []
    },
    {
      "cell_type": "code",
      "metadata": {
        "id": "ZcTf2fEUp6UR",
        "colab_type": "code",
        "colab": {}
      },
      "source": [
        "with open('/content/anna.txt', 'r') as f:\n",
        "    text = f.read()"
      ],
      "execution_count": null,
      "outputs": []
    },
    {
      "cell_type": "code",
      "metadata": {
        "id": "bPcm6MRjqfox",
        "colab_type": "code",
        "colab": {
          "base_uri": "https://localhost:8080/",
          "height": 55
        },
        "outputId": "ed15d247-74e3-4775-ed40-c194120cb8d4"
      },
      "source": [
        "text[:100]"
      ],
      "execution_count": null,
      "outputs": [
        {
          "output_type": "execute_result",
          "data": {
            "application/vnd.google.colaboratory.intrinsic": {
              "type": "string"
            },
            "text/plain": [
              "'Chapter 1\\n\\n\\nHappy families are all alike; every unhappy family is unhappy in its own\\nway.\\n\\nEverythin'"
            ]
          },
          "metadata": {
            "tags": []
          },
          "execution_count": 3
        }
      ]
    },
    {
      "cell_type": "code",
      "metadata": {
        "id": "0y0ifjGGqiKg",
        "colab_type": "code",
        "colab": {}
      },
      "source": [
        "chars = tuple(set(text))\n",
        "int2char = dict(enumerate(chars))\n",
        "char2int = {ch: ii for ii, ch in int2char.items()}\n",
        "\n",
        "encoded = np.array([char2int[ch] for ch in text])"
      ],
      "execution_count": null,
      "outputs": []
    },
    {
      "cell_type": "code",
      "metadata": {
        "id": "38LPzm6Qqkrx",
        "colab_type": "code",
        "colab": {
          "base_uri": "https://localhost:8080/",
          "height": 129
        },
        "outputId": "5ea03051-8b8b-4d72-ab2a-cd3f871fa1df"
      },
      "source": [
        "encoded[:100]"
      ],
      "execution_count": null,
      "outputs": [
        {
          "output_type": "execute_result",
          "data": {
            "text/plain": [
              "array([79, 31, 45, 33, 63,  3,  8, 64, 30, 14, 14, 14, 11, 45, 33, 33, 27,\n",
              "       64, 80, 45, 24, 56, 61, 56,  3, 55, 64, 45,  8,  3, 64, 45, 61, 61,\n",
              "       64, 45, 61, 56, 74,  3, 51, 64,  3,  5,  3,  8, 27, 64, 65, 25, 31,\n",
              "       45, 33, 33, 27, 64, 80, 45, 24, 56, 61, 27, 64, 56, 55, 64, 65, 25,\n",
              "       31, 45, 33, 33, 27, 64, 56, 25, 64, 56, 63, 55, 64, 46,  2, 25, 14,\n",
              "        2, 45, 27, 62, 14, 14, 72,  5,  3,  8, 27, 63, 31, 56, 25])"
            ]
          },
          "metadata": {
            "tags": []
          },
          "execution_count": 5
        }
      ]
    },
    {
      "cell_type": "code",
      "metadata": {
        "id": "aCAAaglSqoZV",
        "colab_type": "code",
        "colab": {}
      },
      "source": [
        "def one_hot_encode(arr, n_labels):\n",
        "    \n",
        "    one_hot = np.zeros((arr.size, n_labels), dtype=np.float32)\n",
        "    \n",
        "    one_hot[np.arange(one_hot.shape[0]), arr.flatten()] = 1.\n",
        "    \n",
        "    one_hot = one_hot.reshape((*arr.shape, n_labels))\n",
        "    \n",
        "    return one_hot"
      ],
      "execution_count": null,
      "outputs": []
    },
    {
      "cell_type": "code",
      "metadata": {
        "id": "oktR4P0eq8xC",
        "colab_type": "code",
        "colab": {
          "base_uri": "https://localhost:8080/",
          "height": 73
        },
        "outputId": "d3fdc921-aa0a-46a7-f3d8-a84ce67343df"
      },
      "source": [
        "test_seq = np.array([[7, 2, 1]])\n",
        "one_hot = one_hot_encode(test_seq, 8)\n",
        "\n",
        "print(one_hot)"
      ],
      "execution_count": null,
      "outputs": [
        {
          "output_type": "stream",
          "text": [
            "[[[0. 0. 0. 0. 0. 0. 0. 1.]\n",
            "  [0. 0. 1. 0. 0. 0. 0. 0.]\n",
            "  [0. 1. 0. 0. 0. 0. 0. 0.]]]\n"
          ],
          "name": "stdout"
        }
      ]
    },
    {
      "cell_type": "code",
      "metadata": {
        "id": "E9evXl09q_lP",
        "colab_type": "code",
        "colab": {}
      },
      "source": [
        "def get_batches(arr, batch_size, seq_length):\n",
        "    \n",
        "    batch_size_total = batch_size * seq_length\n",
        "    n_batches = len(arr)//batch_size_total\n",
        "    \n",
        "    arr =  arr[:n_batches * batch_size_total]\n",
        "    \n",
        "    arr = arr.reshape((batch_size, -1))\n",
        "    \n",
        "    for n in range(0, arr.shape[1], seq_length):\n",
        "        x = arr[:, n:n+seq_length]\n",
        "        \n",
        "        y = np.zeros_like(x)\n",
        "        yield x, y"
      ],
      "execution_count": null,
      "outputs": []
    },
    {
      "cell_type": "code",
      "metadata": {
        "id": "-ensVteXrz1Q",
        "colab_type": "code",
        "colab": {}
      },
      "source": [
        "batches = get_batches(encoded, 8, 50)\n",
        "x, y = next(batches)"
      ],
      "execution_count": null,
      "outputs": []
    },
    {
      "cell_type": "code",
      "metadata": {
        "id": "i2IoOeV7sRLD",
        "colab_type": "code",
        "colab": {
          "base_uri": "https://localhost:8080/",
          "height": 370
        },
        "outputId": "dcb7ce83-7eef-4c5a-f766-e1e7a5fe4e5e"
      },
      "source": [
        "print('x\\n', x[:10, :10])\n",
        "print('\\ny\\n', y[:10, :10])"
      ],
      "execution_count": null,
      "outputs": [
        {
          "output_type": "stream",
          "text": [
            "x\n",
            " [[79 31 45 33 63  3  8 64 30 14]\n",
            " [55 46 25 64 63 31 45 63 64 45]\n",
            " [ 3 25 42 64 46  8 64 45 64 80]\n",
            " [55 64 63 31  3 64 52 31 56  3]\n",
            " [64 55 45  2 64 31  3  8 64 63]\n",
            " [52 65 55 55 56 46 25 64 45 25]\n",
            " [64 78 25 25 45 64 31 45 42 64]\n",
            " [16 75 61 46 25 55 74 27 62 64]]\n",
            "\n",
            "y\n",
            " [[0 0 0 0 0 0 0 0 0 0]\n",
            " [0 0 0 0 0 0 0 0 0 0]\n",
            " [0 0 0 0 0 0 0 0 0 0]\n",
            " [0 0 0 0 0 0 0 0 0 0]\n",
            " [0 0 0 0 0 0 0 0 0 0]\n",
            " [0 0 0 0 0 0 0 0 0 0]\n",
            " [0 0 0 0 0 0 0 0 0 0]\n",
            " [0 0 0 0 0 0 0 0 0 0]]\n"
          ],
          "name": "stdout"
        }
      ]
    },
    {
      "cell_type": "code",
      "metadata": {
        "id": "1N5-vA9csTRH",
        "colab_type": "code",
        "colab": {}
      },
      "source": [
        "class CharRNN(nn.Module):\n",
        "    \n",
        "    def __init__(self, tokens, n_hidden=256, n_layers=2,\n",
        "                               drop_prob=0.5, lr=0.001):\n",
        "        super().__init__()\n",
        "        self.drop_prob = drop_prob\n",
        "        self.n_layers = n_layers\n",
        "        self.n_hidden = n_hidden\n",
        "        self.lr = lr\n",
        "        \n",
        "        self.chars = tokens\n",
        "        self.int2char = dict(enumerate(self.chars))\n",
        "        self.char2int = {ch: ii for ii, ch in self.int2char.items()}\n",
        "        \n",
        "        self.lstm = nn.LSTM(len(self.chars), n_hidden, n_layers, \n",
        "                            dropout=drop_prob, batch_first=True)\n",
        "        \n",
        "        self.dropout = nn.Dropout(drop_prob)\n",
        "        \n",
        "        self.fc = nn.Linear(n_hidden, len(self.chars))\n",
        "      \n",
        "    \n",
        "    def forward(self, x, hidden):\n",
        "        \n",
        "        r_output, hidden = self.lstm(x, hidden)\n",
        "        \n",
        "        out = self.dropout(r_output)\n",
        "        \n",
        "        \n",
        "        out = out.contiguous().view(-1, self.n_hidden)\n",
        "        \n",
        "        out = self.fc(out)\n",
        "        \n",
        "        return out, hidden\n",
        "    \n",
        "    \n",
        "    def init_hidden(self, batch_size):\n",
        "       \n",
        "        weight = next(self.parameters()).data\n",
        "        \n",
        "        \n",
        "        hidden = (weight.new(self.n_layers, batch_size, self.n_hidden).zero_(),\n",
        "                      weight.new(self.n_layers, batch_size, self.n_hidden).zero_())\n",
        "        \n",
        "        return hidden"
      ],
      "execution_count": null,
      "outputs": []
    },
    {
      "cell_type": "code",
      "metadata": {
        "id": "jvyGiWt5spRf",
        "colab_type": "code",
        "colab": {}
      },
      "source": [
        "def train(net, data, epochs=10, batch_size=10, seq_length=50, lr=0.001, clip=5, val_frac=0.1, print_every=10):\n",
        "   \n",
        "    net.train()\n",
        "    \n",
        "    opt = torch.optim.Adam(net.parameters(), lr=lr)\n",
        "    criterion = nn.CrossEntropyLoss()\n",
        "    \n",
        "    val_idx = int(len(data)*(1-val_frac))\n",
        "    data, val_data = data[:val_idx], data[val_idx:]\n",
        "    \n",
        "    \n",
        "    \n",
        "    counter = 0\n",
        "    n_chars = len(net.chars)\n",
        "    for e in range(epochs):\n",
        "        h = net.init_hidden(batch_size)\n",
        "        \n",
        "        for x, y in get_batches(data, batch_size, seq_length):\n",
        "            counter += 1\n",
        "            \n",
        "            x = one_hot_encode(x, n_chars)\n",
        "            inputs, targets = torch.from_numpy(x), torch.from_numpy(y)\n",
        "            \n",
        "           \n",
        "\n",
        "         \n",
        "            h = tuple([each.data for each in h])\n",
        "\n",
        "            net.zero_grad()\n",
        "            \n",
        "            output, h = net(inputs, h)\n",
        "            \n",
        "            loss = criterion(output, targets.view(batch_size*seq_length).long())\n",
        "            loss.backward()\n",
        "            nn.utils.clip_grad_norm_(net.parameters(), clip)\n",
        "            opt.step()\n",
        "            \n",
        "            if counter % print_every == 0:\n",
        "                val_h = net.init_hidden(batch_size)\n",
        "                val_losses = []\n",
        "                net.eval()\n",
        "                for x, y in get_batches(val_data, batch_size, seq_length):\n",
        "                    x = one_hot_encode(x, n_chars)\n",
        "                    x, y = torch.from_numpy(x), torch.from_numpy(y)\n",
        "                    \n",
        "                  \n",
        "                    val_h = tuple([each.data for each in val_h])\n",
        "                    \n",
        "                    inputs, targets = x, y\n",
        "                    \n",
        "\n",
        "                    output, val_h = net(inputs, val_h)\n",
        "                    val_loss = criterion(output, targets.view(batch_size*seq_length).long())\n",
        "                \n",
        "                    val_losses.append(val_loss.item())\n",
        "                \n",
        "                net.train()\n",
        "                \n",
        "                print(\"Epoch: {}/{}...\".format(e+1, epochs),\n",
        "                      \"Step: {}...\".format(counter),\n",
        "                      \"Loss: {:.4f}...\".format(loss.item()),\n",
        "                      \"Val Loss: {:.4f}\".format(np.mean(val_losses)))"
      ],
      "execution_count": null,
      "outputs": []
    },
    {
      "cell_type": "code",
      "metadata": {
        "id": "d-SQs_mKsz8w",
        "colab_type": "code",
        "colab": {
          "base_uri": "https://localhost:8080/",
          "height": 110
        },
        "outputId": "2a30bb22-eeff-425c-c794-af985afa9bf5"
      },
      "source": [
        "n_hidden=512\n",
        "n_layers=2\n",
        "\n",
        "net = CharRNN(chars, n_hidden, n_layers)\n",
        "print(net)"
      ],
      "execution_count": null,
      "outputs": [
        {
          "output_type": "stream",
          "text": [
            "CharRNN(\n",
            "  (lstm): LSTM(83, 512, num_layers=2, batch_first=True, dropout=0.5)\n",
            "  (dropout): Dropout(p=0.5, inplace=False)\n",
            "  (fc): Linear(in_features=512, out_features=83, bias=True)\n",
            ")\n"
          ],
          "name": "stdout"
        }
      ]
    },
    {
      "cell_type": "code",
      "metadata": {
        "id": "TCktJcRHs2o0",
        "colab_type": "code",
        "colab": {
          "base_uri": "https://localhost:8080/",
          "height": 1000
        },
        "outputId": "74e96f61-4b9b-4eaf-de2d-6baf21764186"
      },
      "source": [
        "\n",
        "\n",
        "batch_size = 128\n",
        "seq_length = 100\n",
        "n_epochs = 20 \n",
        "\n",
        "train(net, encoded, epochs=n_epochs, batch_size=batch_size, seq_length=seq_length, lr=0.001, print_every=10)\n",
        "\n"
      ],
      "execution_count": null,
      "outputs": [
        {
          "output_type": "stream",
          "text": [
            "Epoch: 1/20... Step: 10... Loss: 0.0004... Val Loss: 0.0076\n",
            "Epoch: 1/20... Step: 20... Loss: 0.0000... Val Loss: 0.0047\n",
            "Epoch: 1/20... Step: 30... Loss: 0.0000... Val Loss: 0.0041\n",
            "Epoch: 1/20... Step: 40... Loss: 0.0000... Val Loss: 0.0039\n",
            "Epoch: 1/20... Step: 50... Loss: 0.0000... Val Loss: 0.0038\n",
            "Epoch: 1/20... Step: 60... Loss: 0.0000... Val Loss: 0.0038\n",
            "Epoch: 1/20... Step: 70... Loss: 0.0000... Val Loss: 0.0038\n",
            "Epoch: 1/20... Step: 80... Loss: 0.0000... Val Loss: 0.0038\n",
            "Epoch: 1/20... Step: 90... Loss: 0.0000... Val Loss: 0.0038\n",
            "Epoch: 1/20... Step: 100... Loss: 0.0000... Val Loss: 0.0038\n",
            "Epoch: 1/20... Step: 110... Loss: 0.0000... Val Loss: 0.0038\n",
            "Epoch: 1/20... Step: 120... Loss: 0.0000... Val Loss: 0.0038\n",
            "Epoch: 1/20... Step: 130... Loss: 0.0000... Val Loss: 0.0038\n",
            "Epoch: 2/20... Step: 140... Loss: 0.0564... Val Loss: 0.0038\n",
            "Epoch: 2/20... Step: 150... Loss: 0.0000... Val Loss: 0.0037\n",
            "Epoch: 2/20... Step: 160... Loss: 0.0000... Val Loss: 0.0037\n",
            "Epoch: 2/20... Step: 170... Loss: 0.0000... Val Loss: 0.0037\n",
            "Epoch: 2/20... Step: 180... Loss: 0.0000... Val Loss: 0.0037\n",
            "Epoch: 2/20... Step: 190... Loss: 0.0000... Val Loss: 0.0037\n",
            "Epoch: 2/20... Step: 200... Loss: 0.0000... Val Loss: 0.0037\n",
            "Epoch: 2/20... Step: 210... Loss: 0.0000... Val Loss: 0.0037\n",
            "Epoch: 2/20... Step: 220... Loss: 0.0000... Val Loss: 0.0037\n",
            "Epoch: 2/20... Step: 230... Loss: 0.0000... Val Loss: 0.0037\n",
            "Epoch: 2/20... Step: 240... Loss: 0.0000... Val Loss: 0.0037\n",
            "Epoch: 2/20... Step: 250... Loss: 0.0000... Val Loss: 0.0037\n",
            "Epoch: 2/20... Step: 260... Loss: 0.0000... Val Loss: 0.0037\n",
            "Epoch: 2/20... Step: 270... Loss: 0.0000... Val Loss: 0.0037\n",
            "Epoch: 3/20... Step: 280... Loss: 0.0000... Val Loss: 0.0037\n",
            "Epoch: 3/20... Step: 290... Loss: 0.0000... Val Loss: 0.0036\n",
            "Epoch: 3/20... Step: 300... Loss: 0.0000... Val Loss: 0.0036\n",
            "Epoch: 3/20... Step: 310... Loss: 0.0000... Val Loss: 0.0036\n",
            "Epoch: 3/20... Step: 320... Loss: 0.0000... Val Loss: 0.0036\n",
            "Epoch: 3/20... Step: 330... Loss: 0.0000... Val Loss: 0.0036\n",
            "Epoch: 3/20... Step: 340... Loss: 0.0000... Val Loss: 0.0036\n",
            "Epoch: 3/20... Step: 350... Loss: 0.0000... Val Loss: 0.0036\n",
            "Epoch: 3/20... Step: 360... Loss: 0.0000... Val Loss: 0.0036\n",
            "Epoch: 3/20... Step: 370... Loss: 0.0000... Val Loss: 0.0036\n",
            "Epoch: 3/20... Step: 380... Loss: 0.0000... Val Loss: 0.0036\n",
            "Epoch: 3/20... Step: 390... Loss: 0.0000... Val Loss: 0.0036\n",
            "Epoch: 3/20... Step: 400... Loss: 0.0000... Val Loss: 0.0036\n",
            "Epoch: 3/20... Step: 410... Loss: 0.0000... Val Loss: 0.0036\n",
            "Epoch: 4/20... Step: 420... Loss: 0.0000... Val Loss: 0.0036\n",
            "Epoch: 4/20... Step: 430... Loss: 0.0000... Val Loss: 0.0035\n",
            "Epoch: 4/20... Step: 440... Loss: 0.0000... Val Loss: 0.0035\n",
            "Epoch: 4/20... Step: 450... Loss: 0.0000... Val Loss: 0.0035\n",
            "Epoch: 4/20... Step: 460... Loss: 0.0000... Val Loss: 0.0035\n",
            "Epoch: 4/20... Step: 470... Loss: 0.0000... Val Loss: 0.0035\n",
            "Epoch: 4/20... Step: 480... Loss: 0.0000... Val Loss: 0.0035\n",
            "Epoch: 4/20... Step: 490... Loss: 0.0000... Val Loss: 0.0035\n",
            "Epoch: 4/20... Step: 500... Loss: 0.0000... Val Loss: 0.0035\n",
            "Epoch: 4/20... Step: 510... Loss: 0.0000... Val Loss: 0.0035\n",
            "Epoch: 4/20... Step: 520... Loss: 0.0000... Val Loss: 0.0035\n",
            "Epoch: 4/20... Step: 530... Loss: 0.0000... Val Loss: 0.0035\n",
            "Epoch: 4/20... Step: 540... Loss: 0.0000... Val Loss: 0.0035\n",
            "Epoch: 4/20... Step: 550... Loss: 0.0000... Val Loss: 0.0035\n",
            "Epoch: 5/20... Step: 560... Loss: 0.0000... Val Loss: 0.0034\n",
            "Epoch: 5/20... Step: 570... Loss: 0.0000... Val Loss: 0.0034\n",
            "Epoch: 5/20... Step: 580... Loss: 0.0000... Val Loss: 0.0034\n",
            "Epoch: 5/20... Step: 590... Loss: 0.0000... Val Loss: 0.0034\n",
            "Epoch: 5/20... Step: 600... Loss: 0.0000... Val Loss: 0.0034\n",
            "Epoch: 5/20... Step: 610... Loss: 0.0000... Val Loss: 0.0033\n",
            "Epoch: 5/20... Step: 620... Loss: 0.0000... Val Loss: 0.0033\n",
            "Epoch: 5/20... Step: 630... Loss: 0.0000... Val Loss: 0.0033\n",
            "Epoch: 5/20... Step: 640... Loss: 0.0000... Val Loss: 0.0033\n",
            "Epoch: 5/20... Step: 650... Loss: 0.0000... Val Loss: 0.0033\n",
            "Epoch: 5/20... Step: 660... Loss: 0.0000... Val Loss: 0.0033\n",
            "Epoch: 5/20... Step: 670... Loss: 0.0000... Val Loss: 0.0033\n",
            "Epoch: 5/20... Step: 680... Loss: 0.0000... Val Loss: 0.0033\n",
            "Epoch: 5/20... Step: 690... Loss: 0.0000... Val Loss: 0.0033\n",
            "Epoch: 6/20... Step: 700... Loss: 0.0000... Val Loss: 0.0033\n",
            "Epoch: 6/20... Step: 710... Loss: 0.0000... Val Loss: 0.0032\n",
            "Epoch: 6/20... Step: 720... Loss: 0.0000... Val Loss: 0.0032\n",
            "Epoch: 6/20... Step: 730... Loss: 0.0000... Val Loss: 0.0032\n",
            "Epoch: 6/20... Step: 740... Loss: 0.0000... Val Loss: 0.0032\n",
            "Epoch: 6/20... Step: 750... Loss: 0.0000... Val Loss: 0.0032\n",
            "Epoch: 6/20... Step: 760... Loss: 0.0000... Val Loss: 0.0032\n",
            "Epoch: 6/20... Step: 770... Loss: 0.0000... Val Loss: 0.0032\n",
            "Epoch: 6/20... Step: 780... Loss: 0.0000... Val Loss: 0.0032\n",
            "Epoch: 6/20... Step: 790... Loss: 0.0000... Val Loss: 0.0032\n",
            "Epoch: 6/20... Step: 800... Loss: 0.0000... Val Loss: 0.0032\n",
            "Epoch: 6/20... Step: 810... Loss: 0.0000... Val Loss: 0.0032\n",
            "Epoch: 6/20... Step: 820... Loss: 0.0000... Val Loss: 0.0032\n",
            "Epoch: 6/20... Step: 830... Loss: 0.0000... Val Loss: 0.0032\n",
            "Epoch: 7/20... Step: 840... Loss: 0.0000... Val Loss: 0.0031\n",
            "Epoch: 7/20... Step: 850... Loss: 0.0000... Val Loss: 0.0030\n",
            "Epoch: 7/20... Step: 860... Loss: 0.0000... Val Loss: 0.0030\n",
            "Epoch: 7/20... Step: 870... Loss: 0.0000... Val Loss: 0.0030\n",
            "Epoch: 7/20... Step: 880... Loss: 0.0000... Val Loss: 0.0030\n",
            "Epoch: 7/20... Step: 890... Loss: 0.0000... Val Loss: 0.0030\n",
            "Epoch: 7/20... Step: 900... Loss: 0.0000... Val Loss: 0.0030\n",
            "Epoch: 7/20... Step: 910... Loss: 0.0000... Val Loss: 0.0030\n",
            "Epoch: 7/20... Step: 920... Loss: 0.0000... Val Loss: 0.0030\n",
            "Epoch: 7/20... Step: 930... Loss: 0.0000... Val Loss: 0.0030\n",
            "Epoch: 7/20... Step: 940... Loss: 0.0000... Val Loss: 0.0030\n",
            "Epoch: 7/20... Step: 950... Loss: 0.0000... Val Loss: 0.0030\n",
            "Epoch: 7/20... Step: 960... Loss: 0.0000... Val Loss: 0.0030\n",
            "Epoch: 7/20... Step: 970... Loss: 0.0000... Val Loss: 0.0030\n",
            "Epoch: 8/20... Step: 980... Loss: 0.0000... Val Loss: 0.0029\n",
            "Epoch: 8/20... Step: 990... Loss: 0.0000... Val Loss: 0.0028\n",
            "Epoch: 8/20... Step: 1000... Loss: 0.0000... Val Loss: 0.0028\n",
            "Epoch: 8/20... Step: 1010... Loss: 0.0000... Val Loss: 0.0028\n",
            "Epoch: 8/20... Step: 1020... Loss: 0.0000... Val Loss: 0.0028\n",
            "Epoch: 8/20... Step: 1030... Loss: 0.0000... Val Loss: 0.0028\n",
            "Epoch: 8/20... Step: 1040... Loss: 0.0000... Val Loss: 0.0028\n",
            "Epoch: 8/20... Step: 1050... Loss: 0.0000... Val Loss: 0.0028\n",
            "Epoch: 8/20... Step: 1060... Loss: 0.0000... Val Loss: 0.0028\n",
            "Epoch: 8/20... Step: 1070... Loss: 0.0000... Val Loss: 0.0028\n",
            "Epoch: 8/20... Step: 1080... Loss: 0.0000... Val Loss: 0.0028\n",
            "Epoch: 8/20... Step: 1090... Loss: 0.0000... Val Loss: 0.0028\n",
            "Epoch: 8/20... Step: 1100... Loss: 0.0000... Val Loss: 0.0028\n",
            "Epoch: 8/20... Step: 1110... Loss: 0.0000... Val Loss: 0.0028\n",
            "Epoch: 9/20... Step: 1120... Loss: 0.0000... Val Loss: 0.0027\n",
            "Epoch: 9/20... Step: 1130... Loss: 0.0000... Val Loss: 0.0026\n",
            "Epoch: 9/20... Step: 1140... Loss: 0.0000... Val Loss: 0.0026\n",
            "Epoch: 9/20... Step: 1150... Loss: 0.0000... Val Loss: 0.0026\n",
            "Epoch: 9/20... Step: 1160... Loss: 0.0000... Val Loss: 0.0026\n",
            "Epoch: 9/20... Step: 1170... Loss: 0.0000... Val Loss: 0.0026\n",
            "Epoch: 9/20... Step: 1180... Loss: 0.0000... Val Loss: 0.0026\n",
            "Epoch: 9/20... Step: 1190... Loss: 0.0000... Val Loss: 0.0026\n",
            "Epoch: 9/20... Step: 1200... Loss: 0.0000... Val Loss: 0.0026\n",
            "Epoch: 9/20... Step: 1210... Loss: 0.0000... Val Loss: 0.0026\n",
            "Epoch: 9/20... Step: 1220... Loss: 0.0000... Val Loss: 0.0026\n",
            "Epoch: 9/20... Step: 1230... Loss: 0.0000... Val Loss: 0.0026\n",
            "Epoch: 9/20... Step: 1240... Loss: 0.0000... Val Loss: 0.0026\n",
            "Epoch: 9/20... Step: 1250... Loss: 0.0000... Val Loss: 0.0026\n",
            "Epoch: 10/20... Step: 1260... Loss: 0.0000... Val Loss: 0.0025\n",
            "Epoch: 10/20... Step: 1270... Loss: 0.0000... Val Loss: 0.0024\n",
            "Epoch: 10/20... Step: 1280... Loss: 0.0000... Val Loss: 0.0024\n",
            "Epoch: 10/20... Step: 1290... Loss: 0.0000... Val Loss: 0.0024\n",
            "Epoch: 10/20... Step: 1300... Loss: 0.0000... Val Loss: 0.0024\n",
            "Epoch: 10/20... Step: 1310... Loss: 0.0000... Val Loss: 0.0024\n",
            "Epoch: 10/20... Step: 1320... Loss: 0.0000... Val Loss: 0.0024\n",
            "Epoch: 10/20... Step: 1330... Loss: 0.0000... Val Loss: 0.0024\n",
            "Epoch: 10/20... Step: 1340... Loss: 0.0000... Val Loss: 0.0024\n",
            "Epoch: 10/20... Step: 1350... Loss: 0.0000... Val Loss: 0.0024\n",
            "Epoch: 10/20... Step: 1360... Loss: 0.0000... Val Loss: 0.0024\n",
            "Epoch: 10/20... Step: 1370... Loss: 0.0000... Val Loss: 0.0024\n",
            "Epoch: 10/20... Step: 1380... Loss: 0.0000... Val Loss: 0.0024\n",
            "Epoch: 10/20... Step: 1390... Loss: 0.0000... Val Loss: 0.0024\n",
            "Epoch: 11/20... Step: 1400... Loss: 0.0000... Val Loss: 0.0023\n",
            "Epoch: 11/20... Step: 1410... Loss: 0.0000... Val Loss: 0.0023\n",
            "Epoch: 11/20... Step: 1420... Loss: 0.0000... Val Loss: 0.0023\n",
            "Epoch: 11/20... Step: 1430... Loss: 0.0000... Val Loss: 0.0023\n",
            "Epoch: 11/20... Step: 1440... Loss: 0.0000... Val Loss: 0.0023\n",
            "Epoch: 11/20... Step: 1450... Loss: 0.0000... Val Loss: 0.0023\n",
            "Epoch: 11/20... Step: 1460... Loss: 0.0000... Val Loss: 0.0023\n",
            "Epoch: 11/20... Step: 1470... Loss: 0.0000... Val Loss: 0.0023\n",
            "Epoch: 11/20... Step: 1480... Loss: 0.0000... Val Loss: 0.0023\n",
            "Epoch: 11/20... Step: 1490... Loss: 0.0000... Val Loss: 0.0023\n",
            "Epoch: 11/20... Step: 1500... Loss: 0.0000... Val Loss: 0.0023\n",
            "Epoch: 11/20... Step: 1510... Loss: 0.0000... Val Loss: 0.0023\n",
            "Epoch: 11/20... Step: 1520... Loss: 0.0000... Val Loss: 0.0023\n",
            "Epoch: 12/20... Step: 1530... Loss: 0.0337... Val Loss: 0.0022\n",
            "Epoch: 12/20... Step: 1540... Loss: 0.0000... Val Loss: 0.0022\n",
            "Epoch: 12/20... Step: 1550... Loss: 0.0000... Val Loss: 0.0021\n",
            "Epoch: 12/20... Step: 1560... Loss: 0.0000... Val Loss: 0.0021\n",
            "Epoch: 12/20... Step: 1570... Loss: 0.0000... Val Loss: 0.0021\n",
            "Epoch: 12/20... Step: 1580... Loss: 0.0000... Val Loss: 0.0021\n",
            "Epoch: 12/20... Step: 1590... Loss: 0.0000... Val Loss: 0.0021\n",
            "Epoch: 12/20... Step: 1600... Loss: 0.0000... Val Loss: 0.0021\n",
            "Epoch: 12/20... Step: 1610... Loss: 0.0000... Val Loss: 0.0021\n",
            "Epoch: 12/20... Step: 1620... Loss: 0.0000... Val Loss: 0.0021\n",
            "Epoch: 12/20... Step: 1630... Loss: 0.0000... Val Loss: 0.0021\n",
            "Epoch: 12/20... Step: 1640... Loss: 0.0000... Val Loss: 0.0021\n",
            "Epoch: 12/20... Step: 1650... Loss: 0.0000... Val Loss: 0.0021\n",
            "Epoch: 12/20... Step: 1660... Loss: 0.0000... Val Loss: 0.0021\n",
            "Epoch: 13/20... Step: 1670... Loss: 0.0000... Val Loss: 0.0021\n",
            "Epoch: 13/20... Step: 1680... Loss: 0.0000... Val Loss: 0.0021\n",
            "Epoch: 13/20... Step: 1690... Loss: 0.0000... Val Loss: 0.0020\n",
            "Epoch: 13/20... Step: 1700... Loss: 0.0000... Val Loss: 0.0020\n",
            "Epoch: 13/20... Step: 1710... Loss: 0.0000... Val Loss: 0.0020\n",
            "Epoch: 13/20... Step: 1720... Loss: 0.0000... Val Loss: 0.0020\n",
            "Epoch: 13/20... Step: 1730... Loss: 0.0000... Val Loss: 0.0020\n",
            "Epoch: 13/20... Step: 1740... Loss: 0.0000... Val Loss: 0.0020\n",
            "Epoch: 13/20... Step: 1750... Loss: 0.0000... Val Loss: 0.0020\n",
            "Epoch: 13/20... Step: 1760... Loss: 0.0000... Val Loss: 0.0020\n",
            "Epoch: 13/20... Step: 1770... Loss: 0.0000... Val Loss: 0.0020\n",
            "Epoch: 13/20... Step: 1780... Loss: 0.0000... Val Loss: 0.0020\n",
            "Epoch: 13/20... Step: 1790... Loss: 0.0000... Val Loss: 0.0020\n",
            "Epoch: 13/20... Step: 1800... Loss: 0.0000... Val Loss: 0.0020\n",
            "Epoch: 14/20... Step: 1810... Loss: 0.0000... Val Loss: 0.0020\n",
            "Epoch: 14/20... Step: 1820... Loss: 0.0000... Val Loss: 0.0019\n",
            "Epoch: 14/20... Step: 1830... Loss: 0.0000... Val Loss: 0.0019\n",
            "Epoch: 14/20... Step: 1840... Loss: 0.0000... Val Loss: 0.0019\n",
            "Epoch: 14/20... Step: 1850... Loss: 0.0000... Val Loss: 0.0019\n",
            "Epoch: 14/20... Step: 1860... Loss: 0.0000... Val Loss: 0.0019\n",
            "Epoch: 14/20... Step: 1870... Loss: 0.0000... Val Loss: 0.0019\n",
            "Epoch: 14/20... Step: 1880... Loss: 0.0000... Val Loss: 0.0019\n",
            "Epoch: 14/20... Step: 1890... Loss: 0.0000... Val Loss: 0.0019\n",
            "Epoch: 14/20... Step: 1900... Loss: 0.0000... Val Loss: 0.0019\n",
            "Epoch: 14/20... Step: 1910... Loss: 0.0000... Val Loss: 0.0019\n",
            "Epoch: 14/20... Step: 1920... Loss: 0.0000... Val Loss: 0.0019\n",
            "Epoch: 14/20... Step: 1930... Loss: 0.0000... Val Loss: 0.0019\n",
            "Epoch: 14/20... Step: 1940... Loss: 0.0000... Val Loss: 0.0019\n",
            "Epoch: 15/20... Step: 1950... Loss: 0.0000... Val Loss: 0.0019\n",
            "Epoch: 15/20... Step: 1960... Loss: 0.0000... Val Loss: 0.0018\n",
            "Epoch: 15/20... Step: 1970... Loss: 0.0000... Val Loss: 0.0018\n",
            "Epoch: 15/20... Step: 1980... Loss: 0.0000... Val Loss: 0.0018\n",
            "Epoch: 15/20... Step: 1990... Loss: 0.0000... Val Loss: 0.0018\n",
            "Epoch: 15/20... Step: 2000... Loss: 0.0000... Val Loss: 0.0018\n",
            "Epoch: 15/20... Step: 2010... Loss: 0.0000... Val Loss: 0.0018\n",
            "Epoch: 15/20... Step: 2020... Loss: 0.0000... Val Loss: 0.0018\n",
            "Epoch: 15/20... Step: 2030... Loss: 0.0000... Val Loss: 0.0018\n",
            "Epoch: 15/20... Step: 2040... Loss: 0.0000... Val Loss: 0.0018\n",
            "Epoch: 15/20... Step: 2050... Loss: 0.0000... Val Loss: 0.0018\n",
            "Epoch: 15/20... Step: 2060... Loss: 0.0000... Val Loss: 0.0018\n",
            "Epoch: 15/20... Step: 2070... Loss: 0.0000... Val Loss: 0.0018\n",
            "Epoch: 15/20... Step: 2080... Loss: 0.0000... Val Loss: 0.0018\n",
            "Epoch: 16/20... Step: 2090... Loss: 0.0000... Val Loss: 0.0017\n",
            "Epoch: 16/20... Step: 2100... Loss: 0.0000... Val Loss: 0.0017\n",
            "Epoch: 16/20... Step: 2110... Loss: 0.0000... Val Loss: 0.0016\n",
            "Epoch: 16/20... Step: 2120... Loss: 0.0000... Val Loss: 0.0016\n",
            "Epoch: 16/20... Step: 2130... Loss: 0.0000... Val Loss: 0.0016\n",
            "Epoch: 16/20... Step: 2140... Loss: 0.0000... Val Loss: 0.0016\n",
            "Epoch: 16/20... Step: 2150... Loss: 0.0000... Val Loss: 0.0016\n",
            "Epoch: 16/20... Step: 2160... Loss: 0.0000... Val Loss: 0.0016\n",
            "Epoch: 16/20... Step: 2170... Loss: 0.0000... Val Loss: 0.0016\n",
            "Epoch: 16/20... Step: 2180... Loss: 0.0000... Val Loss: 0.0016\n",
            "Epoch: 16/20... Step: 2190... Loss: 0.0000... Val Loss: 0.0016\n",
            "Epoch: 16/20... Step: 2200... Loss: 0.0000... Val Loss: 0.0016\n",
            "Epoch: 16/20... Step: 2210... Loss: 0.0000... Val Loss: 0.0016\n",
            "Epoch: 16/20... Step: 2220... Loss: 0.0000... Val Loss: 0.0016\n",
            "Epoch: 17/20... Step: 2230... Loss: 0.0000... Val Loss: 0.0016\n",
            "Epoch: 17/20... Step: 2240... Loss: 0.0000... Val Loss: 0.0015\n",
            "Epoch: 17/20... Step: 2250... Loss: 0.0000... Val Loss: 0.0015\n",
            "Epoch: 17/20... Step: 2260... Loss: 0.0000... Val Loss: 0.0015\n",
            "Epoch: 17/20... Step: 2270... Loss: 0.0000... Val Loss: 0.0015\n",
            "Epoch: 17/20... Step: 2280... Loss: 0.0000... Val Loss: 0.0015\n",
            "Epoch: 17/20... Step: 2290... Loss: 0.0000... Val Loss: 0.0015\n",
            "Epoch: 17/20... Step: 2300... Loss: 0.0000... Val Loss: 0.0015\n",
            "Epoch: 17/20... Step: 2310... Loss: 0.0000... Val Loss: 0.0015\n",
            "Epoch: 17/20... Step: 2320... Loss: 0.0000... Val Loss: 0.0015\n",
            "Epoch: 17/20... Step: 2330... Loss: 0.0000... Val Loss: 0.0015\n",
            "Epoch: 17/20... Step: 2340... Loss: 0.0000... Val Loss: 0.0015\n",
            "Epoch: 17/20... Step: 2350... Loss: 0.0000... Val Loss: 0.0015\n",
            "Epoch: 17/20... Step: 2360... Loss: 0.0000... Val Loss: 0.0015\n",
            "Epoch: 18/20... Step: 2370... Loss: 0.0000... Val Loss: 0.0013\n",
            "Epoch: 18/20... Step: 2380... Loss: 0.0000... Val Loss: 0.0013\n",
            "Epoch: 18/20... Step: 2390... Loss: 0.0000... Val Loss: 0.0012\n",
            "Epoch: 18/20... Step: 2400... Loss: 0.0000... Val Loss: 0.0012\n",
            "Epoch: 18/20... Step: 2410... Loss: 0.0000... Val Loss: 0.0012\n",
            "Epoch: 18/20... Step: 2420... Loss: 0.0000... Val Loss: 0.0012\n",
            "Epoch: 18/20... Step: 2430... Loss: 0.0000... Val Loss: 0.0012\n",
            "Epoch: 18/20... Step: 2440... Loss: 0.0000... Val Loss: 0.0012\n",
            "Epoch: 18/20... Step: 2450... Loss: 0.0000... Val Loss: 0.0012\n",
            "Epoch: 18/20... Step: 2460... Loss: 0.0000... Val Loss: 0.0012\n",
            "Epoch: 18/20... Step: 2470... Loss: 0.0000... Val Loss: 0.0012\n",
            "Epoch: 18/20... Step: 2480... Loss: 0.0000... Val Loss: 0.0012\n",
            "Epoch: 18/20... Step: 2490... Loss: 0.0000... Val Loss: 0.0012\n",
            "Epoch: 18/20... Step: 2500... Loss: 0.0000... Val Loss: 0.0012\n",
            "Epoch: 19/20... Step: 2510... Loss: 0.0000... Val Loss: 0.0010\n",
            "Epoch: 19/20... Step: 2520... Loss: 0.0000... Val Loss: 0.0010\n",
            "Epoch: 19/20... Step: 2530... Loss: 0.0000... Val Loss: 0.0009\n",
            "Epoch: 19/20... Step: 2540... Loss: 0.0000... Val Loss: 0.0009\n",
            "Epoch: 19/20... Step: 2550... Loss: 0.0000... Val Loss: 0.0009\n",
            "Epoch: 19/20... Step: 2560... Loss: 0.0000... Val Loss: 0.0009\n",
            "Epoch: 19/20... Step: 2570... Loss: 0.0000... Val Loss: 0.0009\n",
            "Epoch: 19/20... Step: 2580... Loss: 0.0000... Val Loss: 0.0009\n",
            "Epoch: 19/20... Step: 2590... Loss: 0.0000... Val Loss: 0.0009\n",
            "Epoch: 19/20... Step: 2600... Loss: 0.0000... Val Loss: 0.0009\n",
            "Epoch: 19/20... Step: 2610... Loss: 0.0000... Val Loss: 0.0009\n",
            "Epoch: 19/20... Step: 2620... Loss: 0.0000... Val Loss: 0.0009\n",
            "Epoch: 19/20... Step: 2630... Loss: 0.0000... Val Loss: 0.0009\n",
            "Epoch: 19/20... Step: 2640... Loss: 0.0000... Val Loss: 0.0009\n",
            "Epoch: 20/20... Step: 2650... Loss: 0.0000... Val Loss: 0.0007\n",
            "Epoch: 20/20... Step: 2660... Loss: 0.0000... Val Loss: 0.0006\n",
            "Epoch: 20/20... Step: 2670... Loss: 0.0000... Val Loss: 0.0006\n",
            "Epoch: 20/20... Step: 2680... Loss: 0.0000... Val Loss: 0.0006\n",
            "Epoch: 20/20... Step: 2690... Loss: 0.0000... Val Loss: 0.0006\n",
            "Epoch: 20/20... Step: 2700... Loss: 0.0000... Val Loss: 0.0006\n",
            "Epoch: 20/20... Step: 2710... Loss: 0.0000... Val Loss: 0.0006\n",
            "Epoch: 20/20... Step: 2720... Loss: 0.0000... Val Loss: 0.0006\n",
            "Epoch: 20/20... Step: 2730... Loss: 0.0000... Val Loss: 0.0006\n",
            "Epoch: 20/20... Step: 2740... Loss: 0.0000... Val Loss: 0.0006\n",
            "Epoch: 20/20... Step: 2750... Loss: 0.0000... Val Loss: 0.0006\n",
            "Epoch: 20/20... Step: 2760... Loss: 0.0000... Val Loss: 0.0006\n",
            "Epoch: 20/20... Step: 2770... Loss: 0.0000... Val Loss: 0.0006\n",
            "Epoch: 20/20... Step: 2780... Loss: 0.0000... Val Loss: 0.0006\n"
          ],
          "name": "stdout"
        }
      ]
    },
    {
      "cell_type": "code",
      "metadata": {
        "id": "gJFnXfZis7aR",
        "colab_type": "code",
        "colab": {}
      },
      "source": [
        "model_name = 'rnn_20_epoch.net'\n",
        "\n",
        "checkpoint = {'n_hidden': net.n_hidden,\n",
        "              'n_layers': net.n_layers,\n",
        "              'state_dict': net.state_dict(),\n",
        "              'tokens': net.chars}\n",
        "\n",
        "with open(model_name, 'wb') as f:\n",
        "    torch.save(checkpoint, f)"
      ],
      "execution_count": null,
      "outputs": []
    },
    {
      "cell_type": "code",
      "metadata": {
        "id": "NfAPCIAnuFIi",
        "colab_type": "code",
        "colab": {}
      },
      "source": [
        "def predict(net, char, h=None, top_k=None):\n",
        "   \n",
        "        \n",
        "        x = np.array([[net.char2int[char]]])\n",
        "        x = one_hot_encode(x, len(net.chars))\n",
        "        inputs = torch.from_numpy(x)\n",
        "       \n",
        "        h = tuple([each.data for each in h])\n",
        "        out, h = net(inputs, h)\n",
        "\n",
        "        p = F.softmax(out, dim=1).data\n",
        "       \n",
        "        \n",
        "        if top_k is None:\n",
        "            top_ch = np.arange(len(net.chars))\n",
        "        else:\n",
        "            p, top_ch = p.topk(top_k)\n",
        "            top_ch = top_ch.numpy().squeeze()\n",
        "        \n",
        "        p = p.numpy().squeeze()\n",
        "        char = np.random.choice(top_ch, p=p/p.sum())\n",
        "        \n",
        "        return net.int2char[char], h"
      ],
      "execution_count": null,
      "outputs": []
    },
    {
      "cell_type": "code",
      "metadata": {
        "id": "9Opo-GxyuLEE",
        "colab_type": "code",
        "colab": {}
      },
      "source": [
        "def sample(net, size, prime='The', top_k=None):\n",
        "        \n",
        "    \n",
        "    \n",
        "    net.eval() # eval mode\n",
        "    \n",
        "    chars = [ch for ch in prime]\n",
        "    h = net.init_hidden(1)\n",
        "    for ch in prime:\n",
        "        char, h = predict(net, ch, h, top_k=top_k)\n",
        "\n",
        "    chars.append(char)\n",
        "    \n",
        "    for ii in range(size):\n",
        "        char, h = predict(net, chars[-1], h, top_k=top_k)\n",
        "        chars.append(char)\n",
        "\n",
        "    return ''.join(chars)"
      ],
      "execution_count": null,
      "outputs": []
    },
    {
      "cell_type": "code",
      "metadata": {
        "id": "XtqJN97buZMU",
        "colab_type": "code",
        "colab": {
          "base_uri": "https://localhost:8080/"
        },
        "outputId": "24dadce8-9ed9-478c-c337-50b65fb43d6f"
      },
      "source": [
        "print(sample(net, 1000, prime='Anna', top_k=5))"
      ],
      "execution_count": null,
      "outputs": [
        {
          "output_type": "stream",
          "text": [
            "AnnaMMMMMMMMMMMMMMMMMMMMMMMMMMMMMMMMMMMMMMMMMMMMMMMMMMMMMMMMMMMMMMMMMMMMMMMMMMMMMMMMMMMMMMMMMMMMMMMMMMMMMMMMMMMMMMMMMMMMMMMMMMMMMMMMMMMMMMMMMMMMMMMMMMMMMMMMMMMMMMMMMMMMMMMMMMMMMMMMMMMMMMMMMMMMMMMMMMMMMMMMMMMMMMMMMMMMMMMMMMMMMMMMMMMMMMMMMMMMMMMMMMMMMMMMMMMMMMMMMMMMMMMMMMMMMMMMMMMMMMMMMMMMMMMMMMMMMMMMMMMMMMMMMMMMMMMMMMMMMMMMMMMMMMMMMMMMMMMMMMMMMMMMMMMMMMMMMMMMMMMMMMMMMMMMMMMMMMMMMMMMMMMMMMMMMMMMMMMMMMMMMMMMMMMMMMMMMMMMMMMMMMMMMMMMMMMMMMMMMMMMMMMMMMMMMMMMMMMMMMMMMMMMMMMMMMMMMMMMMMMMMMMMMMMMMMMMMMMMMMMMMMMMMMMMMMMMMMMMMMMMMMMMMMMMMMMMMMMMMMMMMMMMMMMMMMMMMMMMMMMMMMMMMMMMMMMMMMMMMMMMMMMMMMMMMMMMMMMMMMMMMMMMMMMMMMMMMMMMMMMMMMMMMMMMMMMMMMMMMMMMMMMMMMMMMMMMMMMMMMMMMMMMMMMMMMMMMMMMMMMMMMMMMMMMMMMMMMMMMMMMMMMMMMMMMMMMMMMMMMMMMMMMMMMMMMMMMMMMMMMMMMMMMMMMMMMMMMMMMMMMMMMMMMMMMMMMMMMMMMMMMMMMMMMMMMMMMMMMMMMMMMMMMMMMMMMMMMMMMMMMMMMMMMMMMMMMMMMMMMMMMMMMMMMMMMMMMMMMMMMMMMMMMMMMMMMMMMMMMMMMMMMMMMMMMMMMMMMMMMMMMMMMMMMMMMMMMMMMMMMMMMMMMMMMMMMMMMMMMMMMMMMMMMMMMMMMMMMMMMMMMMMMMMMMMMMMMMMMMMMMMMMMMMMMMMMMMMMMMMMMM\n"
          ],
          "name": "stdout"
        }
      ]
    },
    {
      "cell_type": "code",
      "metadata": {
        "id": "DAGyft4aua-R",
        "colab_type": "code",
        "colab": {}
      },
      "source": [
        ""
      ],
      "execution_count": null,
      "outputs": []
    }
  ]
}